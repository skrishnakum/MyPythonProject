{
 "cells": [
  {
   "cell_type": "markdown",
   "metadata": {},
   "source": [
    "# *args and **kwargs"
   ]
  },
  {
   "cell_type": "code",
   "execution_count": 12,
   "metadata": {},
   "outputs": [
    {
     "name": "stdout",
     "output_type": "stream",
     "text": [
      "in function #1 \n"
     ]
    },
    {
     "data": {
      "text/plain": [
       "30"
      ]
     },
     "execution_count": 12,
     "metadata": {},
     "output_type": "execute_result"
    }
   ],
   "source": [
    "def my_func(a,b):\n",
    "    print('in function #1 ')\n",
    "    return a+b\n",
    "my_func(10,20)\n"
   ]
  },
  {
   "cell_type": "code",
   "execution_count": null,
   "metadata": {},
   "outputs": [],
   "source": [
    " def my_func(*args):\n",
    "    print('in function #2 ')\n",
    "    return sum(args)\n",
    "\n",
    "my_func(10,20)"
   ]
  },
  {
   "cell_type": "markdown",
   "metadata": {},
   "source": [
    "# **Kwargs"
   ]
  },
  {
   "cell_type": "code",
   "execution_count": 43,
   "metadata": {},
   "outputs": [],
   "source": [
    " def my_func_kwargs(**kwargs):\n",
    "    if 'fruit' in kwargs:\n",
    "        print(f\"My fav. fruit is {kwargs['fruit']}\")\n",
    "    else:\n",
    "        print (\"I dont like any other fruits\")"
   ]
  },
  {
   "cell_type": "code",
   "execution_count": 44,
   "metadata": {},
   "outputs": [
    {
     "name": "stdout",
     "output_type": "stream",
     "text": [
      "My fav. fruit is Apple\n"
     ]
    }
   ],
   "source": [
    "my_func_kwargs(fruit='Apple')"
   ]
  },
  {
   "cell_type": "markdown",
   "metadata": {},
   "source": [
    "# Write a program using a key word args. Which take name of the student, age and marks and print them all in a formatted report card in O/P"
   ]
  },
  {
   "cell_type": "code",
   "execution_count": 41,
   "metadata": {},
   "outputs": [],
   "source": [
    "def report_card(**kwargs):\n",
    "    '''This will return a report card'''\n",
    "    print (\"Report card:\")\n",
    "    print (f\"Name - {kwargs['name']}\")\n",
    "    print (f\"Age - {kwargs['age']}\")\n",
    "    print (f\"Marks - {kwargs['marks']}\")\n",
    "    for i in kwargs:\n",
    "           print(i)"
   ]
  },
  {
   "cell_type": "code",
   "execution_count": 42,
   "metadata": {},
   "outputs": [
    {
     "name": "stdout",
     "output_type": "stream",
     "text": [
      "Report card:\n",
      "Name - Krishna\n",
      "Age - 25\n",
      "Marks - 100\n",
      "name\n",
      "age\n",
      "marks\n"
     ]
    }
   ],
   "source": [
    "report_card(name='Krishna',age=25,marks=100)"
   ]
  },
  {
   "cell_type": "code",
   "execution_count": null,
   "metadata": {},
   "outputs": [],
   "source": []
  }
 ],
 "metadata": {
  "kernelspec": {
   "display_name": "Python 3",
   "language": "python",
   "name": "python3"
  },
  "language_info": {
   "codemirror_mode": {
    "name": "ipython",
    "version": 3
   },
   "file_extension": ".py",
   "mimetype": "text/x-python",
   "name": "python",
   "nbconvert_exporter": "python",
   "pygments_lexer": "ipython3",
   "version": "3.7.1"
  }
 },
 "nbformat": 4,
 "nbformat_minor": 2
}
