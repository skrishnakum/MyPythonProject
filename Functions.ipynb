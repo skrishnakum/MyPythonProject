{
 "cells": [
  {
   "cell_type": "markdown",
   "metadata": {},
   "source": [
    "# def statements"
   ]
  },
  {
   "cell_type": "code",
   "execution_count": 6,
   "metadata": {},
   "outputs": [],
   "source": [
    "def name_of_the_function(arg1,arg2):\n",
    "    ''' This is the example documentation of this particular function'''\n",
    "    #do our stuff here\n",
    "    print (\"HI People\")\n",
    "    print (\"How are you all\")\n",
    "    return arg1+arg2"
   ]
  },
  {
   "cell_type": "code",
   "execution_count": 4,
   "metadata": {},
   "outputs": [
    {
     "name": "stdout",
     "output_type": "stream",
     "text": [
      "HI People\n",
      "How are you all\n"
     ]
    },
    {
     "data": {
      "text/plain": [
       "3"
      ]
     },
     "execution_count": 4,
     "metadata": {},
     "output_type": "execute_result"
    }
   ],
   "source": [
    "name_of_the_function(1,2)"
   ]
  },
  {
   "cell_type": "code",
   "execution_count": 7,
   "metadata": {},
   "outputs": [
    {
     "name": "stdout",
     "output_type": "stream",
     "text": [
      "Help on function name_of_the_function in module __main__:\n",
      "\n",
      "name_of_the_function(arg1, arg2)\n",
      "    This is the example documentation of this particular function\n",
      "\n"
     ]
    }
   ],
   "source": [
    "help(name_of_the_function)"
   ]
  },
  {
   "cell_type": "markdown",
   "metadata": {},
   "source": [
    "# Example 1"
   ]
  },
  {
   "cell_type": "code",
   "execution_count": 16,
   "metadata": {},
   "outputs": [],
   "source": [
    "def greetings(name):\n",
    "    print ('Hello {}{}{}'.format(name,' ','How are you'))"
   ]
  },
  {
   "cell_type": "code",
   "execution_count": 17,
   "metadata": {},
   "outputs": [
    {
     "name": "stdout",
     "output_type": "stream",
     "text": [
      "Hello Hari sir How are you\n"
     ]
    }
   ],
   "source": [
    "greetings(\"Hari sir\")"
   ]
  },
  {
   "cell_type": "code",
   "execution_count": 18,
   "metadata": {},
   "outputs": [],
   "source": [
    "def add_num(num1, num2):\n",
    "    return num1+num2"
   ]
  },
  {
   "cell_type": "code",
   "execution_count": 19,
   "metadata": {},
   "outputs": [
    {
     "name": "stdout",
     "output_type": "stream",
     "text": [
      "6.5\n"
     ]
    }
   ],
   "source": [
    "print(add_num(4.5,2))"
   ]
  },
  {
   "cell_type": "code",
   "execution_count": 20,
   "metadata": {},
   "outputs": [
    {
     "name": "stdout",
     "output_type": "stream",
     "text": [
      "tx\n"
     ]
    }
   ],
   "source": [
    "print(add_num('t','x'))"
   ]
  },
  {
   "cell_type": "markdown",
   "metadata": {},
   "source": [
    "# Example for testing a number is prime or not"
   ]
  },
  {
   "cell_type": "code",
   "execution_count": 87,
   "metadata": {},
   "outputs": [],
   "source": [
    "def is_prime(num):\n",
    "    \n",
    "    '''Metod to test the prime number'''\n",
    "    j = 0\n",
    "    for x in range(2,num):\n",
    "            if num%x == 0:\n",
    "                j = 1\n",
    "    if j != 1:\n",
    "        print (\"This is a Prime\")\n",
    "    else:\n",
    "        print (\"This is not a Prime\")"
   ]
  },
  {
   "cell_type": "code",
   "execution_count": 88,
   "metadata": {},
   "outputs": [
    {
     "name": "stdout",
     "output_type": "stream",
     "text": [
      "This is a Prime\n"
     ]
    }
   ],
   "source": [
    " is_prime(3)"
   ]
  },
  {
   "cell_type": "code",
   "execution_count": 38,
   "metadata": {},
   "outputs": [],
   "source": [
    "def odd(arg):\n",
    "    '''Finds the odd'''\n",
    "    if (arg%2 !=0):\n",
    "        return True\n",
    "    else:\n",
    "        return False\n",
    "def even(arg):\n",
    "    '''Finds the Even'''\n",
    "    if(arg%2 ==0):\n",
    "        return True\n",
    "    else:\n",
    "        return False\n",
    "def greater(arg1,arg2):\n",
    "    '''finds greater'''\n",
    "    if (arg1 > arg2):\n",
    "        return arg1\n",
    "    else:\n",
    "        return arg2\n",
    "def lesser(arg1, arg2):\n",
    "    '''finds Lesser'''\n",
    "    if (arg1 < arg2):\n",
    "        return arg1\n",
    "    else:\n",
    "        return arg2\n",
    "def lesser_of_two_evens(arg1, arg2):\n",
    "    '''THis function returns lesser of two events'''\n",
    "    if odd(arg1) and odd(arg2):\n",
    "        return greater(arg1,arg2)\n",
    "    elif even(arg1) and even(arg2):\n",
    "        return lesser(arg1,arg2)\n",
    "    else:\n",
    "        print(arg1, arg2)"
   ]
  },
  {
   "cell_type": "code",
   "execution_count": 43,
   "metadata": {},
   "outputs": [],
   "source": [
    "def makes_thirty(arg1, arg2):\n",
    "    '''Makes Thirty'''\n",
    "    if arg1+arg2 == 30:\n",
    "        return True\n",
    "    elif arg1 ==30 or arg2 ==30:\n",
    "        return True\n",
    "    else:\n",
    "        return False"
   ]
  },
  {
   "cell_type": "code",
   "execution_count": 44,
   "metadata": {},
   "outputs": [
    {
     "data": {
      "text/plain": [
       "True"
      ]
     },
     "execution_count": 44,
     "metadata": {},
     "output_type": "execute_result"
    }
   ],
   "source": [
    "makes_thirty(30,10)"
   ]
  },
  {
   "cell_type": "code",
   "execution_count": 45,
   "metadata": {},
   "outputs": [
    {
     "data": {
      "text/plain": [
       "False"
      ]
     },
     "execution_count": 45,
     "metadata": {},
     "output_type": "execute_result"
    }
   ],
   "source": [
    "makes_thirty(10,10)"
   ]
  },
  {
   "cell_type": "code",
   "execution_count": 46,
   "metadata": {},
   "outputs": [
    {
     "data": {
      "text/plain": [
       "True"
      ]
     },
     "execution_count": 46,
     "metadata": {},
     "output_type": "execute_result"
    }
   ],
   "source": [
    "makes_thirty(15,15)"
   ]
  },
  {
   "cell_type": "code",
   "execution_count": 77,
   "metadata": {},
   "outputs": [],
   "source": [
    "def make_boolean(arg1):\n",
    "    ''''''\n",
    "    if abs(n-100) <=10:\n",
    "        return True\n",
    "    elif abs(n-200) <=10:\n",
    "        return True\n",
    "    else:\n",
    "        return False\n"
   ]
  },
  {
   "cell_type": "code",
   "execution_count": 85,
   "metadata": {},
   "outputs": [],
   "source": [
    "def has_22(arg1):\n",
    "    '''This function returns true if array contains a 2 next to a 2 somewhere'''\n",
    "    x = None\n",
    "    for i in arg1:\n",
    "        if i == x:\n",
    "            return True\n",
    "        if i == 2:\n",
    "            x = 2\n",
    "            continue\n",
    "    return False    "
   ]
  },
  {
   "cell_type": "code",
   "execution_count": 86,
   "metadata": {},
   "outputs": [
    {
     "data": {
      "text/plain": [
       "True"
      ]
     },
     "execution_count": 86,
     "metadata": {},
     "output_type": "execute_result"
    }
   ],
   "source": [
    "has_22([1,2,2])"
   ]
  },
  {
   "cell_type": "code",
   "execution_count": 111,
   "metadata": {},
   "outputs": [],
   "source": [
    "def count_prime(num):\n",
    "    '''Metod to count the prime numbers'''\n",
    "    j = 0\n",
    "    x = 1    \n",
    "    for i in range(1,num+1):    \n",
    "        for x in range(2,i):\n",
    "            if i%x == 0:\n",
    "                j = 1\n",
    "        if j != 1:\n",
    "            x += x     \n",
    "    print (x)\n"
   ]
  },
  {
   "cell_type": "code",
   "execution_count": 112,
   "metadata": {},
   "outputs": [
    {
     "name": "stdout",
     "output_type": "stream",
     "text": [
      "99\n"
     ]
    }
   ],
   "source": [
    "count_prime(100)"
   ]
  },
  {
   "cell_type": "code",
   "execution_count": null,
   "metadata": {},
   "outputs": [],
   "source": []
  }
 ],
 "metadata": {
  "kernelspec": {
   "display_name": "Python 3",
   "language": "python",
   "name": "python3"
  },
  "language_info": {
   "codemirror_mode": {
    "name": "ipython",
    "version": 3
   },
   "file_extension": ".py",
   "mimetype": "text/x-python",
   "name": "python",
   "nbconvert_exporter": "python",
   "pygments_lexer": "ipython3",
   "version": "3.7.1"
  }
 },
 "nbformat": 4,
 "nbformat_minor": 2
}
